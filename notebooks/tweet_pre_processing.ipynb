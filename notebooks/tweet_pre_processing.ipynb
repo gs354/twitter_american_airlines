{
 "cells": [
  {
   "cell_type": "markdown",
   "metadata": {},
   "source": [
    "### This notebook preprocesses text from a twitter airline sentiment [dataset](https://www.kaggle.com/datasets/crowdflower/twitter-airline-sentiment),<br> in preparation for generating embeddings with a sentence transformer model.\n"
   ]
  },
  {
   "cell_type": "code",
   "execution_count": 47,
   "metadata": {},
   "outputs": [],
   "source": [
    "import sys\n",
    "\n",
    "sys.path.append(\"../\")\n",
    "import pandas as pd\n",
    "import numpy as np\n",
    "from collections import Counter\n",
    "import plotly.express as px\n",
    "import preprocessing.preprocessing as pp\n",
    "pd.set_option('display.max_colwidth', None)"
   ]
  },
  {
   "cell_type": "code",
   "execution_count": 48,
   "metadata": {},
   "outputs": [],
   "source": [
    "# Run these two lines to have all plots appear on GitHub:\n",
    "import plotly.io as pio\n",
    "\n",
    "pio.renderers.default = \"png\""
   ]
  },
  {
   "cell_type": "markdown",
   "metadata": {},
   "source": [
    "Reading in the raw data:"
   ]
  },
  {
   "cell_type": "code",
   "execution_count": 49,
   "metadata": {},
   "outputs": [
    {
     "name": "stdout",
     "output_type": "stream",
     "text": [
      "<class 'pandas.core.frame.DataFrame'>\n",
      "RangeIndex: 14640 entries, 0 to 14639\n",
      "Data columns (total 15 columns):\n",
      " #   Column                        Non-Null Count  Dtype  \n",
      "---  ------                        --------------  -----  \n",
      " 0   tweet_id                      14640 non-null  int64  \n",
      " 1   airline_sentiment             14640 non-null  object \n",
      " 2   airline_sentiment_confidence  14640 non-null  float64\n",
      " 3   negativereason                9178 non-null   object \n",
      " 4   negativereason_confidence     10522 non-null  float64\n",
      " 5   airline                       14640 non-null  object \n",
      " 6   airline_sentiment_gold        40 non-null     object \n",
      " 7   name                          14640 non-null  object \n",
      " 8   negativereason_gold           32 non-null     object \n",
      " 9   retweet_count                 14640 non-null  int64  \n",
      " 10  text                          14640 non-null  object \n",
      " 11  tweet_coord                   1019 non-null   object \n",
      " 12  tweet_created                 14640 non-null  object \n",
      " 13  tweet_location                9907 non-null   object \n",
      " 14  user_timezone                 9820 non-null   object \n",
      "dtypes: float64(2), int64(2), object(11)\n",
      "memory usage: 1.7+ MB\n",
      "None\n"
     ]
    }
   ],
   "source": [
    "df = pd.read_csv(\"../data/raw/twitter_airline_sentiment.csv\")\n",
    "print(df.info())"
   ]
  },
  {
   "cell_type": "code",
   "execution_count": 50,
   "metadata": {},
   "outputs": [
    {
     "data": {
      "text/html": [
       "<div>\n",
       "<style scoped>\n",
       "    .dataframe tbody tr th:only-of-type {\n",
       "        vertical-align: middle;\n",
       "    }\n",
       "\n",
       "    .dataframe tbody tr th {\n",
       "        vertical-align: top;\n",
       "    }\n",
       "\n",
       "    .dataframe thead th {\n",
       "        text-align: right;\n",
       "    }\n",
       "</style>\n",
       "<table border=\"1\" class=\"dataframe\">\n",
       "  <thead>\n",
       "    <tr style=\"text-align: right;\">\n",
       "      <th></th>\n",
       "      <th>tweet_id</th>\n",
       "      <th>airline_sentiment</th>\n",
       "      <th>airline_sentiment_confidence</th>\n",
       "      <th>negativereason</th>\n",
       "      <th>negativereason_confidence</th>\n",
       "      <th>airline</th>\n",
       "      <th>airline_sentiment_gold</th>\n",
       "      <th>name</th>\n",
       "      <th>negativereason_gold</th>\n",
       "      <th>retweet_count</th>\n",
       "      <th>text</th>\n",
       "      <th>tweet_coord</th>\n",
       "      <th>tweet_created</th>\n",
       "      <th>tweet_location</th>\n",
       "      <th>user_timezone</th>\n",
       "    </tr>\n",
       "  </thead>\n",
       "  <tbody>\n",
       "    <tr>\n",
       "      <th>0</th>\n",
       "      <td>570306133677760513</td>\n",
       "      <td>neutral</td>\n",
       "      <td>1.0000</td>\n",
       "      <td>NaN</td>\n",
       "      <td>NaN</td>\n",
       "      <td>Virgin America</td>\n",
       "      <td>NaN</td>\n",
       "      <td>cairdin</td>\n",
       "      <td>NaN</td>\n",
       "      <td>0</td>\n",
       "      <td>@VirginAmerica What @dhepburn said.</td>\n",
       "      <td>NaN</td>\n",
       "      <td>2015-02-24 11:35:52 -0800</td>\n",
       "      <td>NaN</td>\n",
       "      <td>Eastern Time (US &amp; Canada)</td>\n",
       "    </tr>\n",
       "    <tr>\n",
       "      <th>1</th>\n",
       "      <td>570301130888122368</td>\n",
       "      <td>positive</td>\n",
       "      <td>0.3486</td>\n",
       "      <td>NaN</td>\n",
       "      <td>0.0</td>\n",
       "      <td>Virgin America</td>\n",
       "      <td>NaN</td>\n",
       "      <td>jnardino</td>\n",
       "      <td>NaN</td>\n",
       "      <td>0</td>\n",
       "      <td>@VirginAmerica plus you've added commercials to the experience... tacky.</td>\n",
       "      <td>NaN</td>\n",
       "      <td>2015-02-24 11:15:59 -0800</td>\n",
       "      <td>NaN</td>\n",
       "      <td>Pacific Time (US &amp; Canada)</td>\n",
       "    </tr>\n",
       "    <tr>\n",
       "      <th>2</th>\n",
       "      <td>570301083672813571</td>\n",
       "      <td>neutral</td>\n",
       "      <td>0.6837</td>\n",
       "      <td>NaN</td>\n",
       "      <td>NaN</td>\n",
       "      <td>Virgin America</td>\n",
       "      <td>NaN</td>\n",
       "      <td>yvonnalynn</td>\n",
       "      <td>NaN</td>\n",
       "      <td>0</td>\n",
       "      <td>@VirginAmerica I didn't today... Must mean I need to take another trip!</td>\n",
       "      <td>NaN</td>\n",
       "      <td>2015-02-24 11:15:48 -0800</td>\n",
       "      <td>Lets Play</td>\n",
       "      <td>Central Time (US &amp; Canada)</td>\n",
       "    </tr>\n",
       "  </tbody>\n",
       "</table>\n",
       "</div>"
      ],
      "text/plain": [
       "             tweet_id airline_sentiment  airline_sentiment_confidence  \\\n",
       "0  570306133677760513           neutral                        1.0000   \n",
       "1  570301130888122368          positive                        0.3486   \n",
       "2  570301083672813571           neutral                        0.6837   \n",
       "\n",
       "  negativereason  negativereason_confidence         airline  \\\n",
       "0            NaN                        NaN  Virgin America   \n",
       "1            NaN                        0.0  Virgin America   \n",
       "2            NaN                        NaN  Virgin America   \n",
       "\n",
       "  airline_sentiment_gold        name negativereason_gold  retweet_count  \\\n",
       "0                    NaN     cairdin                 NaN              0   \n",
       "1                    NaN    jnardino                 NaN              0   \n",
       "2                    NaN  yvonnalynn                 NaN              0   \n",
       "\n",
       "                                                                       text  \\\n",
       "0                                       @VirginAmerica What @dhepburn said.   \n",
       "1  @VirginAmerica plus you've added commercials to the experience... tacky.   \n",
       "2   @VirginAmerica I didn't today... Must mean I need to take another trip!   \n",
       "\n",
       "  tweet_coord              tweet_created tweet_location  \\\n",
       "0         NaN  2015-02-24 11:35:52 -0800            NaN   \n",
       "1         NaN  2015-02-24 11:15:59 -0800            NaN   \n",
       "2         NaN  2015-02-24 11:15:48 -0800      Lets Play   \n",
       "\n",
       "                user_timezone  \n",
       "0  Eastern Time (US & Canada)  \n",
       "1  Pacific Time (US & Canada)  \n",
       "2  Central Time (US & Canada)  "
      ]
     },
     "execution_count": 50,
     "metadata": {},
     "output_type": "execute_result"
    }
   ],
   "source": [
    "df.head(3)"
   ]
  },
  {
   "cell_type": "code",
   "execution_count": 51,
   "metadata": {},
   "outputs": [
    {
     "data": {
      "text/html": [
       "<div>\n",
       "<style scoped>\n",
       "    .dataframe tbody tr th:only-of-type {\n",
       "        vertical-align: middle;\n",
       "    }\n",
       "\n",
       "    .dataframe tbody tr th {\n",
       "        vertical-align: top;\n",
       "    }\n",
       "\n",
       "    .dataframe thead th {\n",
       "        text-align: right;\n",
       "    }\n",
       "</style>\n",
       "<table border=\"1\" class=\"dataframe\">\n",
       "  <thead>\n",
       "    <tr style=\"text-align: right;\">\n",
       "      <th></th>\n",
       "      <th>tweet_id</th>\n",
       "      <th>airline_sentiment</th>\n",
       "      <th>airline_sentiment_confidence</th>\n",
       "      <th>negativereason</th>\n",
       "      <th>negativereason_confidence</th>\n",
       "      <th>airline</th>\n",
       "      <th>airline_sentiment_gold</th>\n",
       "      <th>name</th>\n",
       "      <th>negativereason_gold</th>\n",
       "      <th>retweet_count</th>\n",
       "      <th>text</th>\n",
       "      <th>tweet_coord</th>\n",
       "      <th>tweet_created</th>\n",
       "      <th>tweet_location</th>\n",
       "      <th>user_timezone</th>\n",
       "    </tr>\n",
       "  </thead>\n",
       "  <tbody>\n",
       "    <tr>\n",
       "      <th>14637</th>\n",
       "      <td>569587242672398336</td>\n",
       "      <td>neutral</td>\n",
       "      <td>1.0000</td>\n",
       "      <td>NaN</td>\n",
       "      <td>NaN</td>\n",
       "      <td>American</td>\n",
       "      <td>NaN</td>\n",
       "      <td>sanyabun</td>\n",
       "      <td>NaN</td>\n",
       "      <td>0</td>\n",
       "      <td>@AmericanAir Please bring American Airlines to #BlackBerry10</td>\n",
       "      <td>NaN</td>\n",
       "      <td>2015-02-22 11:59:15 -0800</td>\n",
       "      <td>Nigeria,lagos</td>\n",
       "      <td>NaN</td>\n",
       "    </tr>\n",
       "    <tr>\n",
       "      <th>14638</th>\n",
       "      <td>569587188687634433</td>\n",
       "      <td>negative</td>\n",
       "      <td>1.0000</td>\n",
       "      <td>Customer Service Issue</td>\n",
       "      <td>0.6659</td>\n",
       "      <td>American</td>\n",
       "      <td>NaN</td>\n",
       "      <td>SraJackson</td>\n",
       "      <td>NaN</td>\n",
       "      <td>0</td>\n",
       "      <td>@AmericanAir you have my money, you change my flight, and don't answer your phones! Any other suggestions so I can make my commitment??</td>\n",
       "      <td>NaN</td>\n",
       "      <td>2015-02-22 11:59:02 -0800</td>\n",
       "      <td>New Jersey</td>\n",
       "      <td>Eastern Time (US &amp; Canada)</td>\n",
       "    </tr>\n",
       "    <tr>\n",
       "      <th>14639</th>\n",
       "      <td>569587140490866689</td>\n",
       "      <td>neutral</td>\n",
       "      <td>0.6771</td>\n",
       "      <td>NaN</td>\n",
       "      <td>0.0000</td>\n",
       "      <td>American</td>\n",
       "      <td>NaN</td>\n",
       "      <td>daviddtwu</td>\n",
       "      <td>NaN</td>\n",
       "      <td>0</td>\n",
       "      <td>@AmericanAir we have 8 ppl so we need 2 know how many seats are on the next flight. Plz put us on standby for 4 people on the next flight?</td>\n",
       "      <td>NaN</td>\n",
       "      <td>2015-02-22 11:58:51 -0800</td>\n",
       "      <td>dallas, TX</td>\n",
       "      <td>NaN</td>\n",
       "    </tr>\n",
       "  </tbody>\n",
       "</table>\n",
       "</div>"
      ],
      "text/plain": [
       "                 tweet_id airline_sentiment  airline_sentiment_confidence  \\\n",
       "14637  569587242672398336           neutral                        1.0000   \n",
       "14638  569587188687634433          negative                        1.0000   \n",
       "14639  569587140490866689           neutral                        0.6771   \n",
       "\n",
       "               negativereason  negativereason_confidence   airline  \\\n",
       "14637                     NaN                        NaN  American   \n",
       "14638  Customer Service Issue                     0.6659  American   \n",
       "14639                     NaN                     0.0000  American   \n",
       "\n",
       "      airline_sentiment_gold        name negativereason_gold  retweet_count  \\\n",
       "14637                    NaN    sanyabun                 NaN              0   \n",
       "14638                    NaN  SraJackson                 NaN              0   \n",
       "14639                    NaN   daviddtwu                 NaN              0   \n",
       "\n",
       "                                                                                                                                             text  \\\n",
       "14637                                                                                @AmericanAir Please bring American Airlines to #BlackBerry10   \n",
       "14638     @AmericanAir you have my money, you change my flight, and don't answer your phones! Any other suggestions so I can make my commitment??   \n",
       "14639  @AmericanAir we have 8 ppl so we need 2 know how many seats are on the next flight. Plz put us on standby for 4 people on the next flight?   \n",
       "\n",
       "      tweet_coord              tweet_created tweet_location  \\\n",
       "14637         NaN  2015-02-22 11:59:15 -0800  Nigeria,lagos   \n",
       "14638         NaN  2015-02-22 11:59:02 -0800     New Jersey   \n",
       "14639         NaN  2015-02-22 11:58:51 -0800     dallas, TX   \n",
       "\n",
       "                    user_timezone  \n",
       "14637                         NaN  \n",
       "14638  Eastern Time (US & Canada)  \n",
       "14639                         NaN  "
      ]
     },
     "execution_count": 51,
     "metadata": {},
     "output_type": "execute_result"
    }
   ],
   "source": [
    "df.tail(3)"
   ]
  },
  {
   "cell_type": "markdown",
   "metadata": {},
   "source": [
    "Print number of tweets and number of unique tweets:"
   ]
  },
  {
   "cell_type": "code",
   "execution_count": 52,
   "metadata": {},
   "outputs": [
    {
     "name": "stdout",
     "output_type": "stream",
     "text": [
      "Number of tweets:  14640\n",
      "Unique tweets:  14427\n"
     ]
    }
   ],
   "source": [
    "print(\"Number of tweets: \", len(df[\"text\"]))\n",
    "print(\"Unique tweets: \", len(set(df[\"text\"])))"
   ]
  },
  {
   "cell_type": "markdown",
   "metadata": {},
   "source": [
    "Drop duplicates:"
   ]
  },
  {
   "cell_type": "code",
   "execution_count": 53,
   "metadata": {},
   "outputs": [
    {
     "name": "stdout",
     "output_type": "stream",
     "text": [
      "14427\n"
     ]
    }
   ],
   "source": [
    "df[\"original_index\"] = df.index\n",
    "df_nd = df.drop_duplicates(subset=[\"text\"], keep=\"last\", ignore_index=True).copy()\n",
    "print(len(df_nd))"
   ]
  },
  {
   "cell_type": "markdown",
   "metadata": {},
   "source": [
    "What do the retweets look like? <br>\n",
    "Should they be kept?"
   ]
  },
  {
   "cell_type": "code",
   "execution_count": 54,
   "metadata": {},
   "outputs": [
    {
     "name": "stdout",
     "output_type": "stream",
     "text": [
      "Number of retweets in data set:  117\n"
     ]
    },
    {
     "data": {
      "text/plain": [
       "['Nice RT @VirginAmerica: Vibe with the moodlight from takeoff to touchdown. #MoodlitMonday #ScienceBehindTheExperience http://t.co/Y7O0uNxTQP',\n",
       " \"@VirginAmerica You'd think paying an extra $100 bucks RT for luggage might afford you hiring an extra hand at @sfo #lame\",\n",
       " \"Always have it together!!! You're welcome! RT @VirginAmerica: @jessicajaymes You're so welcome.\",\n",
       " '😎 RT @VirginAmerica: You’ve met your match. Got status on another airline? Upgrade (+restr): http://t.co/RHKaMx9VF5. http://t.co/PYalebgkJt',\n",
       " 'Awesome! RT @VirginAmerica: Watch nominated films at 35,000 feet. #MeetTheFleet #Oscars http://t.co/DnStITRzWy',\n",
       " \"@VirginAmerica If you'd love to see more girls be inspired to become pilots, RT our free WOAW event March 2-8 at ABQ. http://t.co/rfXlV1kGDh\",\n",
       " 'Nice RT @VirginAmerica: The man of steel might be faster, but we have WiFi – just saying. #ScienceBehindTheExperience http://t.co/FGRbpAZSiX',\n",
       " '@united Pls Help Baby Hannah get the life saving surgeries she requires.She needs your help.Pls Donate/RT http://t.co/kQnrrP86A5',\n",
       " 'Just sent thank u RT @united: @goodenufmother Please DM your confirmation number if reFlight Booking Problems is needed. Thank you. ^EY',\n",
       " \"@united thanks! It's 35K miles from RTB to Europe, to do a multiple destination so we could stop over in US on way/way back- mileage diff?\"]"
      ]
     },
     "execution_count": 54,
     "metadata": {},
     "output_type": "execute_result"
    }
   ],
   "source": [
    "retweets = [tweet for tweet in df_nd[\"text\"] if \"RT\" in tweet]\n",
    "print(\"Number of retweets in data set: \", len(retweets))\n",
    "retweets[:10]"
   ]
  },
  {
   "cell_type": "markdown",
   "metadata": {},
   "source": [
    "Print a random sample of tweets:"
   ]
  },
  {
   "cell_type": "code",
   "execution_count": 55,
   "metadata": {},
   "outputs": [
    {
     "name": "stdout",
     "output_type": "stream",
     "text": [
      "@united great to hear Thankyou so much. Greatly appreciate your replies. Feel much more settled now.\n",
      "@united Tell me that you're at least going to cover a room and get me out of here.\n",
      "@JetBlue I'm over that honestly just would like to get going on the journey.\n",
      "@USAirways would like to see you do similar in PHL! http://t.co/n9vGe2nPIB\n",
      "@SouthwestAir if you are giving tix to #DestinationDragons show would appreciate one or two for LA😄Flying from PHL to LAX on Friday\n",
      "@AmericanAir still waiting on a dm response..... #sloooowresponses\n",
      "@JetBlue is the trueblue site broken at the moment?\n",
      "@AmericanAir That's good, I'd expect that but I can't get through on the phone to make any changes. Can I change it online?\n",
      "@SouthwestAir worst air line ever, you have no compassion of the handicapped\n",
      "@JetBlue I just wanted to say flight attendant fitz was the best tonight on flight #1326 bwi/Bos. Great guy and made the flight fantastic!\n",
      "@united no- we are boarding- but why can't your agents, on the phone, taking care of 1K travellers, link reservations?!?!!\n",
      "@united better train your support staff with appropriate decorum, consider revisiting your terrible \"provide a death certificate' policy\n",
      "@JetBlue When I arrived at the airport, I was told my ticket had been refunded because my name had a fraud alert.\n",
      "@united my flight is Late Flight due to mechanical issues 3 of 4 flights in past 10 days!\n",
      "@united I would like to talk to a customer service agent about the service / non service I received on my last flight a a week or so a go.\n",
      "J\n"
     ]
    }
   ],
   "source": [
    "[print(tweet) for tweet in df_nd[\"text\"].sample(15, random_state=11)];"
   ]
  },
  {
   "cell_type": "markdown",
   "metadata": {},
   "source": [
    "### Process tweets through selected preprocessing steps:"
   ]
  },
  {
   "cell_type": "code",
   "execution_count": 56,
   "metadata": {},
   "outputs": [
    {
     "name": "stderr",
     "output_type": "stream",
     "text": [
      "/Users/garethsmith/Development/twitter_american_airlines/notebooks/../preprocessing/preprocessing.py:195: MarkupResemblesLocatorWarning:\n",
      "\n",
      "The input looks more like a filename than markup. You may want to open this file and pass the filehandle into Beautiful Soup.\n",
      "\n"
     ]
    }
   ],
   "source": [
    "df_nd[\"clean_text\"] = df_nd[\"text\"]\n",
    "df_nd = (\n",
    "    df_nd.pipe(pp.remove_emoji, col=\"clean_text\", replace=True)\n",
    "    .pipe(pp.remove_urls, col=\"clean_text\")\n",
    "    .pipe(pp.remove_html, col=\"clean_text\")\n",
    "    .pipe(\n",
    "        pp.remove_symbols,\n",
    "        col=\"clean_text\",\n",
    "        symbols=[\"@\", \"#\"],\n",
    "        remove_keyword=[True, True],\n",
    "    )\n",
    "    .pipe(pp.replace_curly_quotes, col=\"clean_text\")\n",
    "    .pipe(pp.remove_whitespace_currency, col=\"clean_text\")\n",
    "    .pipe(pp.fix_whitespace, col=\"clean_text\")\n",
    ")"
   ]
  },
  {
   "cell_type": "code",
   "execution_count": 57,
   "metadata": {},
   "outputs": [
    {
     "name": "stdout",
     "output_type": "stream",
     "text": [
      "Original: @united Okay, just requested to follow.\n",
      "Cleaned:  Okay, just requested to follow.\n",
      "\n",
      "Original: @USAirways ...was Cancelled Flightled and now I need to locate my baggage\n",
      "Cleaned:  .. .was Cancelled Flightled and now I need to locate my baggage\n",
      "\n",
      "Original: @AmericanAir You should be more timely with bags that missed a flight, people need their undies the next morning!\n",
      "Cleaned:  You should be more timely with bags that missed a flight, people need their undies the next morning!\n",
      "\n",
      "Original: @AmericanAir how have you not loaded our luggage on the plane and were OVER an hour delayed? #Flight293\n",
      "Cleaned:  how have you not loaded our luggage on the plane and were OVER an hour delayed?\n",
      "\n",
      "Original: @AmericanAir Thanks for the reply, but a functioning plane four hours ago was the only way to do that. The staff was friendly, tho.\n",
      "Cleaned:  Thanks for the reply, but a functioning plane four hours ago was the only way to do that. The staff was friendly, tho.\n",
      "\n",
      "Original: @united Ok thank you, do you provide complimentary hotel accommodations since I'll have to stay overnight?\n",
      "Cleaned:  Ok thank you, do you provide complimentary hotel accommodations since I'll have to stay overnight?\n",
      "\n",
      "Original: @AmericanAir @dogbuckeye No, I was on hold for 4 1/2 hours.  3 diff agents each w/ different information, frustrating, kept getting txfd...\n",
      "Cleaned:  No, I was on hold for 4 1/2 hours. 3 diff agents each w/ different information, frustrating, kept getting txfd...\n",
      "\n",
      "Original: @SouthwestAir your customer service is terrible, you're terrible, thought you should know.\n",
      "Cleaned:  your customer service is terrible, you're terrible, thought you should know.\n",
      "\n",
      "Original: @united $25 United coupon to make up for broken entertainment system on a 9-hour flight, seriously? #Ridiculousness #learncustomerservice\n",
      "Cleaned:  $25 United coupon to make up for broken entertainment system on a 9-hour flight, seriously?\n",
      "\n",
      "Original: @united 's new #flierfriendly is garbage. Just had to cry to get attendant to find a place for my medical supplies with limited overhead\n",
      "Cleaned:  's new is garbage. Just had to cry to get attendant to find a place for my medical supplies with limited overhead\n",
      "\n"
     ]
    }
   ],
   "source": [
    "# Shows a random subset of tweets before and after cleaning\n",
    "\n",
    "ind = np.random.choice(len(df_nd), 10)\n",
    "\n",
    "for t, c in zip(df_nd[\"text\"].to_numpy()[ind], df_nd[\"clean_text\"].to_numpy()[ind]):\n",
    "    print(f\"Original: {t}\")\n",
    "    print(f\"Cleaned:  {c}\")\n",
    "    print()"
   ]
  },
  {
   "cell_type": "markdown",
   "metadata": {},
   "source": [
    "### Using PySpellChecker, we'll find potentially incorrect spellings"
   ]
  },
  {
   "cell_type": "code",
   "execution_count": 58,
   "metadata": {},
   "outputs": [],
   "source": [
    "df_nd = pp.find_incorrect_spellings(df=df_nd, col=\"clean_text\", distance=1)"
   ]
  },
  {
   "cell_type": "code",
   "execution_count": 59,
   "metadata": {},
   "outputs": [
    {
     "data": {
      "text/plain": [
       "[('...', 629),\n",
       " ('flightled', 488),\n",
       " ('.. .', 270),\n",
       " ('w', 247),\n",
       " ('dm', 243),\n",
       " ('hrs', 218),\n",
       " ('flighted', 212),\n",
       " ('aa', 179),\n",
       " ('..', 173),\n",
       " ('jfk', 173),\n",
       " ('flightr', 160),\n",
       " (\"you're\", 159),\n",
       " (':)', 152),\n",
       " ('fleek', 148),\n",
       " ('flt', 141),\n",
       " ('rebooked', 134),\n",
       " ('dfw', 131),\n",
       " ('sfo', 102),\n",
       " ('thx', 102),\n",
       " ('phl', 100),\n",
       " ('s', 97),\n",
       " ('rt', 94),\n",
       " ('jetblue', 94),\n",
       " ('dca', 92),\n",
       " ('pm', 90),\n",
       " (':(', 86),\n",
       " ('clt', 77),\n",
       " ('bos', 76),\n",
       " ('ewr', 71),\n",
       " ('nyc', 67),\n",
       " ('bc', 67),\n",
       " ('hr', 66),\n",
       " ('b', 64),\n",
       " ('c', 61),\n",
       " ('pls', 60),\n",
       " ('thru', 55),\n",
       " ('phx', 55),\n",
       " ('. .', 54),\n",
       " ('fll', 51),\n",
       " ('cust', 51),\n",
       " ('reflight', 51),\n",
       " ('lga', 49),\n",
       " ('dc', 49),\n",
       " ('... .', 48),\n",
       " ('1/2', 47),\n",
       " ('sw', 46),\n",
       " ('usair', 45),\n",
       " ('iah', 44),\n",
       " ('swa', 43),\n",
       " ('flighting', 42)]"
      ]
     },
     "execution_count": 59,
     "metadata": {},
     "output_type": "execute_result"
    }
   ],
   "source": [
    "# What are the most common spellings we should check?\n",
    "counter = Counter()\n",
    "df_nd[\"check_spellings\"].apply(lambda x: counter.update(x.keys()))\n",
    "counter.most_common()[:50]"
   ]
  },
  {
   "cell_type": "markdown",
   "metadata": {},
   "source": [
    "### The spellchecker corrections are no use for most of the above, so manual attention is required.\n",
    "### Manual checking is a fairly large job, but I will cover a subset relating to the unusual versions of \"flight\" that appear.\n",
    "### Let's look at the text of the most common of those: "
   ]
  },
  {
   "cell_type": "code",
   "execution_count": 60,
   "metadata": {},
   "outputs": [
    {
     "data": {
      "text/plain": [
       "[('flightled', 488),\n",
       " ('flighted', 212),\n",
       " ('flightlation', 34),\n",
       " ('flighting', 42),\n",
       " ('flightr', 160),\n",
       " ('flightd', 25),\n",
       " ('reflight', 51),\n",
       " ('flightlations', 40)]"
      ]
     },
     "execution_count": 60,
     "metadata": {},
     "output_type": "execute_result"
    }
   ],
   "source": [
    "[(w, counter[w]) for w in counter if \"flight\" in w and counter[w] > 20]"
   ]
  },
  {
   "cell_type": "markdown",
   "metadata": {},
   "source": [
    "### Looking at the first of these (\"flightled\"), they all involve \"Cancelled Flightled\", which should be corrected to \"cancelled\":"
   ]
  },
  {
   "cell_type": "code",
   "execution_count": 61,
   "metadata": {},
   "outputs": [
    {
     "data": {
      "text/plain": [
       "5345                                                                                       is anyone answering phones to rebook Cancelled Flightled flights?\n",
       "13835                                                                    anxious to see how you all care for customers you've inconvenienced Flightledflight\n",
       "5207                                                                             flight 4040 atl to lga Cancelled Flightled any suggestions how to get home?\n",
       "7825     waiting for a flight to FL for 1/2 marathon tmrw 4 charity. U bumped us 2a Late Flightr flight & then Cancelled FlightLED IT. How can you fix this?\n",
       "14224                                                                            Flight for tomorrow has already been Cancelled Flightled, what do I do now?\n",
       "10202                                                                     4 hours on hold to change a Cancelled Flightled flight. Completely unacceptable!!!\n",
       "5031                                    stuck in NYC flights Cancelled Flightled 2 days in a row Long wait times on phones. Running out of $ but SWA no help\n",
       "5064                                         Was on hold for 2 hours before you disconnected me after my flight was Cancelled Flightled. Swell company, you.\n",
       "13541                                                                            yes. Shows Cancelled Flightled & asks for her to contact you at 800 number.\n",
       "4973                        As a frequent traveler, I've never been treated so coldly & had an airline offer nothing when my flight was Cancelled Flightled.\n",
       "Name: clean_text, dtype: object"
      ]
     },
     "execution_count": 61,
     "metadata": {},
     "output_type": "execute_result"
    }
   ],
   "source": [
    "df_nd[\"clean_text\"][df_nd[\"clean_text\"].str.contains(\"flightled\", case=False)].sample(10)"
   ]
  },
  {
   "cell_type": "markdown",
   "metadata": {},
   "source": [
    "### So we should replace \"Cancelled Flightled\" with \"cancelled\" or \"Cancelled\" as appropriate:"
   ]
  },
  {
   "cell_type": "markdown",
   "metadata": {},
   "source": [
    "### Now looking at \"flighted\":"
   ]
  },
  {
   "cell_type": "code",
   "execution_count": 62,
   "metadata": {},
   "outputs": [
    {
     "data": {
      "text/plain": [
       "4309                               although I'm not happy you Cancelled Flighted my flight home tomorrow (phx to atl then dca) I am happy on how easy it was to rebook\n",
       "14408                           I've been on hold for 55 mins about my Cancelled Flighted international flight. Am out of country, so can't leave a call back #. Help?\n",
       "2436                              All flights Cancelled Flighted:(Trip refunded without difficulty, staff extremely helpful, no complaints! Way to handle bad weather!\n",
       "10108              my in-laws flight Cancelled Flighted 4 tonight. U auto rebooked 4 flight on Tuesday that doesn't work. Can you help reFlight Booking Problems them?\n",
       "12708                       my wife was on a flt from BRO to TUL via DFW that was Cancelled Flighted. Bought an SWA flight to get her home. Partial refund, DM me plz?\n",
       "2425                       I'm on snowy roads to BWI. I Just called MileagePlus & told flight was Cancelled Flighted 1 1/2 hours ago. I rcvd no notification. Pls help\n",
       "10281                        I never made a reward reservation becuase no one ever answered the phone. The online one I made got Cancelled Flighted and I can't change\n",
       "13907                                              I have a Cancelled Flighted flight tomorrow morning and the 800 number did nothing! Please! I just want to go home!\n",
       "1068     2 Cancelled Flighted flights Late Flightr, agent claimed she put me on a new flight but then Cancelled Flighted it. Coworker got on flight- now delayed. Now?\n",
       "5270                                                                                          follow for a DM please. Need to confirm a Cancelled Flighted reservation\n",
       "Name: clean_text, dtype: object"
      ]
     },
     "execution_count": 62,
     "metadata": {},
     "output_type": "execute_result"
    }
   ],
   "source": [
    "df_nd[\"clean_text\"][df_nd[\"clean_text\"].str.contains(\"flighted\", case=False)].sample(10)"
   ]
  },
  {
   "cell_type": "markdown",
   "metadata": {},
   "source": [
    "### Similar story with the above: \"Cancelled Flighted\" -> \"cancelled\""
   ]
  },
  {
   "cell_type": "markdown",
   "metadata": {},
   "source": [
    "### Now looking at \"flightlation\":"
   ]
  },
  {
   "cell_type": "code",
   "execution_count": 63,
   "metadata": {},
   "outputs": [
    {
     "data": {
      "text/plain": [
       "11224                             3 delays 2 Cancelled Flightlations a double layover and 72 hours Late Flightr... .could I at least get extra dividend miles?\n",
       "12211                        travel week, delays, Cancelled Flightlations, \"if you want to learn more about the merger press 1\", delay my connector in Chicago\n",
       "3144                                                           it wasn't a delay so much as a straight Cancelled Flightlation. Weather wasn't an issue either.\n",
       "12689              why are customer svc reps unable to handle calls. Is there a 24hrs Cancelled Flightlation policy? Booked yesterday need to Cancelled Flight\n",
       "14399                           a friend is having flight Cancelled Flightlations out of LAX to CMH on Feb 23. Anyway to help her? 800 number has been no help\n",
       "495         my group got their Cancelled Flightlation fees waived but I can't because my ticket is booked for 2/18? Your reps were no help either enraged_face\n",
       "5127                                         had to fly MCO->CMH for $400 b/c we cldnt reach SWA to reroute SWA 3104 Cancelled Flightlation. Voucher wld help.\n",
       "2928     United Club team is A+ & got me a seat Late Flightr. Still, not sure why a last min UAL Cancelled Flightlation costs me $ yet overbooked folks get $?\n",
       "5322                                            - I called and they solved the flight Cancelled Flightlation issue in 15minutes. May be ask them how to do it?\n",
       "1493             can we get an explanation on why UA978 from São Paulo to Houston has been delayed? Now we're hearing from crew about Cancelled Flightlations.\n",
       "Name: clean_text, dtype: object"
      ]
     },
     "execution_count": 63,
     "metadata": {},
     "output_type": "execute_result"
    }
   ],
   "source": [
    "df_nd[\"clean_text\"][df_nd[\"clean_text\"].str.contains(\"flightlation\", case=False)].sample(10)"
   ]
  },
  {
   "cell_type": "markdown",
   "metadata": {},
   "source": [
    "### Correction: \"Cancelled Flightlations\" -> \"cancellations\" and \"Cancelled Flightlation\" -> \"cancellation\":"
   ]
  },
  {
   "cell_type": "markdown",
   "metadata": {},
   "source": [
    "### Now looking at \"flighting\":"
   ]
  },
  {
   "cell_type": "code",
   "execution_count": 64,
   "metadata": {},
   "outputs": [
    {
     "data": {
      "text/plain": [
       "11579               delayed my flight 3 times before Cancelled Flighting it, had angry and rude workers, and are now providing no helpful service at all\n",
       "3773                                                             Cancelled Flighting. bought a ticket for a friend but cant get the credit under my name\n",
       "13106                                  thank you for NOT Cancelled Flighting all flights and putting my husbands life in danger driving in this weather.\n",
       "4962                                            Way to go flying out of Denver today! Must be the only airline not Cancelled Flighting/delaying flights!\n",
       "6728        but by Cancelled Flighting my flight and pushing me to the next day I'd lose $150 hotel which was why I was trying to get a same-day flight.\n",
       "973                    the least you could do is offer me a ticket in coach instead of just Cancelled Flighting my reservation because of your glitch!!!\n",
       "10079                                             Thanks for Cancelled Flighting my flight tomorrow and not reFlight Booking Problems me on another one.\n",
       "13057                   I need help Cancelled Flighting an upcoming flight made with AAdvantage miles. Record locator HFJKTO. Can someone please assist?\n",
       "11262                        so what is the difference between Cancelled Flighting and reFlight Booking Problems - will that help me avoid a change fee?\n",
       "5396     jumped the gun a little Cancelled Flighting our flights? No other airline is Cancelled Flighting out of Louisville. You're ruining my vacation.\n",
       "Name: clean_text, dtype: object"
      ]
     },
     "execution_count": 64,
     "metadata": {},
     "output_type": "execute_result"
    }
   ],
   "source": [
    "df_nd[\"clean_text\"][df_nd[\"clean_text\"].str.contains(\"flighting\", case=False)].sample(10)"
   ]
  },
  {
   "cell_type": "markdown",
   "metadata": {},
   "source": [
    "### This time the correction appears to be \"Cancelled Flighting\" -> \"cancelling\":"
   ]
  },
  {
   "cell_type": "markdown",
   "metadata": {},
   "source": [
    "### Now looking at \"flightr\":"
   ]
  },
  {
   "cell_type": "code",
   "execution_count": 65,
   "metadata": {},
   "outputs": [
    {
     "data": {
      "text/plain": [
       "2439     really fucked my day up Hilo to LAX 2hr30min delay because of software? missed connection, getting home 8hrs Late Flightr no upgrade nothin\n",
       "1147       Now arriving a day and a half Late Flightr than supposed to. Lesson of the day, don't believe verbal or written confirmations from United\n",
       "10634                             Made about 30 calls to USAir today to merge of AAdvantage, Dividend Miles. Each time, says call back Late Flightr.\n",
       "10483                                    What's the seat assignment policy? Why let us choose a seat only to change it on us two weeks Late Flightr?\n",
       "9520              thx for delayed checkin on noon flt to mia then forcing me to take Late Flightr flts which were delayed. Cincy to Miami in 13 hrs!\n",
       "2909                             how is it tripitPro has accurate delayed dept. times and 2hours Late Flightr I hear the same from you? Just curious\n",
       "5246                                                         Left my computer on the plane. Two weeks Late Flightr they found it and sent it to me..\n",
       "4233                                     Nearly 48 hours Late Flightr and still no idea where it is. I will never fly United again if I can help it.\n",
       "12177                                            yes starting w/ flight 1278, getting me home more than 48 hours Late Flightr. record locator BSUXLU\n",
       "3242                                         How is this considered \"on time\" if it's arriving at destination half hour Late Flightr than scheduled?\n",
       "Name: clean_text, dtype: object"
      ]
     },
     "execution_count": 65,
     "metadata": {},
     "output_type": "execute_result"
    }
   ],
   "source": [
    "df_nd[\"clean_text\"][df_nd[\"clean_text\"].str.contains(\"flightr\", case=False)].sample(10)"
   ]
  },
  {
   "cell_type": "markdown",
   "metadata": {},
   "source": [
    "### This time the correction appears to be \"Late Flightr\" -> \"later\":"
   ]
  },
  {
   "cell_type": "markdown",
   "metadata": {},
   "source": [
    "### Now looking at \"flightd\":"
   ]
  },
  {
   "cell_type": "code",
   "execution_count": 66,
   "metadata": {},
   "outputs": [
    {
     "data": {
      "text/plain": [
       "4659                            Completely understand Act of God weather-reLate Flightd Cancelled Flightlation, but 4 days without reimbursement of any kind is\n",
       "9905                                              more like USDELAY-ways. Another long 'paperwork' reLate Flightd delay - Friday in Charlotte. Today in Philly.\n",
       "2016                                             Sorry, . I accidentally popuLate Flightd with you instead of. Can't wait 'til \"U\" are the only \"U\" in the sky.\n",
       "4445     why was Southwest only airline to Cancelled Flight all flights from Charleston? Was 7:50pm flight Cancelled Flightation really weather reLate Flightd?\n",
       "12376                  btw you guys should consider making a lounge at Austin Intl. airport! Very popuLate Flightd area! Will help the company for sure OK_hand\n",
       "3971                                             - flight 1114. Unfortunately this isn't an isoLate Flightd incident. I haven't waited less than 20min in years\n",
       "638                      I asked a legitimate question about systemwide vs. localized problems, and got back an unreLate Flightd copy/paste. You can do better.\n",
       "7680                    Flight 2202 out of JFK, 2 & 1/2 hr delay. I could get over it if it was just weather reLate Flightd, but considering it's not - Come on\n",
       "10503                           providing poor customer service by responding to complaints with a copy and paste tempLate Flight unreLate Flightd to complaint\n",
       "7280                                                        Thanks. So the delay was the result of scheduling issues more than weather reLate Flightd problems?\n",
       "Name: clean_text, dtype: object"
      ]
     },
     "execution_count": 66,
     "metadata": {},
     "output_type": "execute_result"
    }
   ],
   "source": [
    "df_nd[\"clean_text\"][df_nd[\"clean_text\"].str.contains(\"flightd\", case=False)].sample(10)"
   ]
  },
  {
   "cell_type": "markdown",
   "metadata": {},
   "source": [
    "### This time the corrections are of the form: \"reLate Flightd\" -> \"related\", \"unreLate Flightd\" -> \"unrelated\"..."
   ]
  },
  {
   "cell_type": "markdown",
   "metadata": {},
   "source": [
    "### Now looking at \"reflight\":"
   ]
  },
  {
   "cell_type": "code",
   "execution_count": 67,
   "metadata": {},
   "outputs": [
    {
     "data": {
      "text/plain": [
       "5043     Thx to customer service rep ALEX for his patient help in reFlight Booking Problems a Cancelled Flighted flight and getting us where we have to be tmrw!\n",
       "1350                                            Now about two dozen back in line to see a single CSR for reFlight Booking Problems final leg. (Kiosks on fritz.)\n",
       "899                                              Just sent thank u RT: Please DM your confirmation number if reFlight Booking Problems is needed. Thank you. ^EY\n",
       "7446         When I got your alert, I immediately started looking to rebook. But we only had 11 minutes from reFlight Booking Problems to catch a flight to SRQ.\n",
       "11495                                                                      stuck in cae need reFlight Booking Problems for next flight possibly dm for more info\n",
       "12568                                                                                       I need assistance reFlight Booking Problems a flight from dfw to lit\n",
       "7265                                     had a potentially stressful situation in reFlight Booking Problems a flight which she diffused and helped make awesome!\n",
       "5584                                                                  Was going for the weekend for friend's birthday, so no point in reFlight Booking Problems.\n",
       "10079                                                     Thanks for Cancelled Flighting my flight tomorrow and not reFlight Booking Problems me on another one.\n",
       "10670             they weren't able to without reFlight Booking Problems and recharging the amount plus $25 fee for help over phone. Spoke to 2 agents & Jeanine\n",
       "Name: clean_text, dtype: object"
      ]
     },
     "execution_count": 67,
     "metadata": {},
     "output_type": "execute_result"
    }
   ],
   "source": [
    "df_nd[\"clean_text\"][df_nd[\"clean_text\"].str.contains(\"reflight\", case=False)].sample(10)"
   ]
  },
  {
   "cell_type": "markdown",
   "metadata": {},
   "source": [
    "### This time the correction seems to be \"reFlight Booking Problems\" -> \"rebooking\":"
   ]
  },
  {
   "cell_type": "markdown",
   "metadata": {},
   "source": [
    "### Let's construct a dataframe of the findings:"
   ]
  },
  {
   "cell_type": "code",
   "execution_count": 68,
   "metadata": {},
   "outputs": [
    {
     "data": {
      "text/html": [
       "<div>\n",
       "<style scoped>\n",
       "    .dataframe tbody tr th:only-of-type {\n",
       "        vertical-align: middle;\n",
       "    }\n",
       "\n",
       "    .dataframe tbody tr th {\n",
       "        vertical-align: top;\n",
       "    }\n",
       "\n",
       "    .dataframe thead th {\n",
       "        text-align: right;\n",
       "    }\n",
       "</style>\n",
       "<table border=\"1\" class=\"dataframe\">\n",
       "  <thead>\n",
       "    <tr style=\"text-align: right;\">\n",
       "      <th></th>\n",
       "      <th>word</th>\n",
       "      <th>str_to_replace</th>\n",
       "      <th>replacement</th>\n",
       "    </tr>\n",
       "  </thead>\n",
       "  <tbody>\n",
       "    <tr>\n",
       "      <th>0</th>\n",
       "      <td>flightled</td>\n",
       "      <td>Cancelled Flightled</td>\n",
       "      <td>cancelled</td>\n",
       "    </tr>\n",
       "    <tr>\n",
       "      <th>1</th>\n",
       "      <td>flighted</td>\n",
       "      <td>Cancelled Flighted</td>\n",
       "      <td>cancelled</td>\n",
       "    </tr>\n",
       "    <tr>\n",
       "      <th>2</th>\n",
       "      <td>flightlations</td>\n",
       "      <td>Cancelled Flightlations</td>\n",
       "      <td>cancellations</td>\n",
       "    </tr>\n",
       "    <tr>\n",
       "      <th>3</th>\n",
       "      <td>flightlation</td>\n",
       "      <td>Cancelled Flightlation</td>\n",
       "      <td>cancellation</td>\n",
       "    </tr>\n",
       "    <tr>\n",
       "      <th>4</th>\n",
       "      <td>flighting</td>\n",
       "      <td>Cancelled Flighting</td>\n",
       "      <td>cancelling</td>\n",
       "    </tr>\n",
       "    <tr>\n",
       "      <th>5</th>\n",
       "      <td>flightr</td>\n",
       "      <td>Late Flightr</td>\n",
       "      <td>later</td>\n",
       "    </tr>\n",
       "    <tr>\n",
       "      <th>6</th>\n",
       "      <td>flightd</td>\n",
       "      <td>unreLate Flightd</td>\n",
       "      <td>unrelated</td>\n",
       "    </tr>\n",
       "    <tr>\n",
       "      <th>7</th>\n",
       "      <td>flightd</td>\n",
       "      <td>correLate Flightd</td>\n",
       "      <td>correlated</td>\n",
       "    </tr>\n",
       "    <tr>\n",
       "      <th>8</th>\n",
       "      <td>flightd</td>\n",
       "      <td>popuLate Flightd</td>\n",
       "      <td>populated</td>\n",
       "    </tr>\n",
       "    <tr>\n",
       "      <th>9</th>\n",
       "      <td>flightd</td>\n",
       "      <td>isoLate Flightd</td>\n",
       "      <td>isolated</td>\n",
       "    </tr>\n",
       "    <tr>\n",
       "      <th>10</th>\n",
       "      <td>flightd</td>\n",
       "      <td>reLate Flightd</td>\n",
       "      <td>related</td>\n",
       "    </tr>\n",
       "    <tr>\n",
       "      <th>11</th>\n",
       "      <td>reflight</td>\n",
       "      <td>reFlight Booking Problems</td>\n",
       "      <td>rebooking</td>\n",
       "    </tr>\n",
       "    <tr>\n",
       "      <th>12</th>\n",
       "      <td>reflight</td>\n",
       "      <td>ReFlight Booking Problems</td>\n",
       "      <td>Rebooking</td>\n",
       "    </tr>\n",
       "  </tbody>\n",
       "</table>\n",
       "</div>"
      ],
      "text/plain": [
       "             word             str_to_replace    replacement\n",
       "0       flightled        Cancelled Flightled      cancelled\n",
       "1        flighted         Cancelled Flighted      cancelled\n",
       "2   flightlations    Cancelled Flightlations  cancellations\n",
       "3    flightlation     Cancelled Flightlation   cancellation\n",
       "4       flighting        Cancelled Flighting     cancelling\n",
       "5         flightr               Late Flightr          later\n",
       "6         flightd           unreLate Flightd      unrelated\n",
       "7         flightd          correLate Flightd     correlated\n",
       "8         flightd           popuLate Flightd      populated\n",
       "9         flightd            isoLate Flightd       isolated\n",
       "10        flightd             reLate Flightd        related\n",
       "11       reflight  reFlight Booking Problems      rebooking\n",
       "12       reflight  ReFlight Booking Problems      Rebooking"
      ]
     },
     "execution_count": 68,
     "metadata": {},
     "output_type": "execute_result"
    }
   ],
   "source": [
    "text_corrections = {\n",
    "    \"word\": [\n",
    "        \"flightled\",\n",
    "        \"flighted\",\n",
    "        \"flightlations\",\n",
    "        \"flightlation\",\n",
    "        \"flighting\",\n",
    "        \"flightr\",\n",
    "        \"flightd\",\n",
    "        \"flightd\",\n",
    "        \"flightd\",\n",
    "        \"flightd\",\n",
    "        \"flightd\",\n",
    "        \"reflight\",\n",
    "        \"reflight\",\n",
    "    ],\n",
    "    \"str_to_replace\": [\n",
    "        \"Cancelled Flightled\",\n",
    "        \"Cancelled Flighted\",\n",
    "        \"Cancelled Flightlations\",\n",
    "        \"Cancelled Flightlation\",\n",
    "        \"Cancelled Flighting\",\n",
    "        \"Late Flightr\",\n",
    "        \"unreLate Flightd\",\n",
    "        \"correLate Flightd\",\n",
    "        \"popuLate Flightd\",\n",
    "        \"isoLate Flightd\",\n",
    "        \"reLate Flightd\",\n",
    "        \"reFlight Booking Problems\",\n",
    "        \"ReFlight Booking Problems\",\n",
    "    ],\n",
    "    \"replacement\": [\n",
    "        \"cancelled\",\n",
    "        \"cancelled\",\n",
    "        \"cancellations\",\n",
    "        \"cancellation\",\n",
    "        \"cancelling\",\n",
    "        \"later\",\n",
    "        \"unrelated\",\n",
    "        \"correlated\",\n",
    "        \"populated\",\n",
    "        \"isolated\",\n",
    "        \"related\",\n",
    "        \"rebooking\",\n",
    "        \"Rebooking\",\n",
    "    ],\n",
    "}\n",
    "\n",
    "df_corrections = pd.DataFrame(text_corrections)\n",
    "df_corrections"
   ]
  },
  {
   "cell_type": "markdown",
   "metadata": {},
   "source": [
    "### Now I will replace the bad substrings with the identified replacements:"
   ]
  },
  {
   "cell_type": "code",
   "execution_count": 69,
   "metadata": {},
   "outputs": [],
   "source": [
    "[pp.replace_substring(df=df_nd, \n",
    "                    col=\"clean_text\",\n",
    "                    str_to_replace=df_corrections[\"str_to_replace\"].iloc[i],\n",
    "                    replacement=df_corrections[\"replacement\"].iloc[i])\n",
    "                    for i in df_corrections.index];"
   ]
  },
  {
   "cell_type": "markdown",
   "metadata": {},
   "source": [
    "### Checking for any remaining issues:"
   ]
  },
  {
   "cell_type": "code",
   "execution_count": 70,
   "metadata": {},
   "outputs": [
    {
     "name": "stdout",
     "output_type": "stream",
     "text": [
      "Bad text: flightled. Remaining issues:\n",
      "thanks for ruined my vacation for having poorly maintained aircrafts that can't fly safely out of STT. Flightledflight\n",
      "Flightled.. .tried to get refund but on hold. Can I get it after my flight would have departed?\n",
      "waiting for a flight to FL for 1/2 marathon tmrw 4 charity. U bumped us 2a later flight & then Cancelled FlightLED IT. How can you fix this?\n",
      "cannot provide us alternative flight until 36 hours later ruining our trip! Flightled.\n",
      "anxious to see how you all care for customers you've inconvenienced Flightledflight\n",
      "\n",
      "Bad text: flighted. Remaining issues:\n",
      "flighted delayed for hours. 10pm arrival to Vegas is now 4am. Did you seriously lose my luggage???\n",
      "message me if you want to issue a refund so someone else can use my seats tomorrow AM Flighted\n",
      "thanks for helping with Booking Problems Flightedflight Yvonne Anthony. You will help us get to Tel Aviv on time.\n",
      "disappoints AGAIN! Flighted flights appointments refund is a lie\n",
      "UR service is so shitty. Pilot never showed up so we waited hours because another pilot was supposed to come but didn't Flighted\n",
      "My ex-boyfriend picks up my calls more than you do! Flightedflight\n",
      "OMG ANSWER YOUR PHONE I HAVE BEEN ON HOLD FOR 1.5 hours. Cancelled FlightED FLIGHTS SUCK\n",
      "\n",
      "Bad text: flightlations. Remaining issues:\n",
      "\n",
      "Bad text: flightlation. Remaining issues:\n",
      "\n",
      "Bad text: flighting. Remaining issues:\n",
      "\n",
      "Bad text: flightr. Remaining issues:\n",
      "7 WEEKS Late FlightR AND I STILL HAVE NOT RECEIVED MY MILES FROM THE MileagePlus Gift Card $150 STARBUCKS CARD I HANDED OVER!!!\n",
      "no, ua 6 finally cancelled after hrs of delay. The replacement flight leaves Late FlightR than this one was scheduled tomorrow. Not cool.\n",
      "I've been on hold for the last 2 hours - no progress Flightr\n",
      "did you pick the winners for the?? Flightr\n",
      "still waiting! Captain reports he's called 6 times to get ground crew... .and still sitting on runway. Flightr\n",
      "why no ground crew at DCA when we're already Late Flight arriving Flightr\n",
      "\n",
      "Bad text: flightd. Remaining issues:\n",
      "\n",
      "Bad text: reflight. Remaining issues:\n",
      "Reply to - Doesn't do any good to check outlets preflight when moved to different equipment after boarding due to malfunction.\n",
      "First class no snack basket was catered so drinks only No preflight drink or coathanging 1st drink service 50 min after take off\n",
      "\n"
     ]
    }
   ],
   "source": [
    "for word in df_corrections[\"word\"].unique():\n",
    "    print(f\"Bad text: {word}. Remaining issues:\")\n",
    "    [print(tweet) for tweet in df_nd[\"clean_text\"] if word in tweet.lower()]\n",
    "    print()"
   ]
  },
  {
   "cell_type": "markdown",
   "metadata": {},
   "source": [
    "#### There are a few which could be handled separately, but the number is tiny in comparison to before."
   ]
  },
  {
   "cell_type": "markdown",
   "metadata": {},
   "source": [
    "### It is apparent that completely cleaning and correcting the text is a large job, but the above addresses some of the most obviously strange faults in the tweet text. Further time spent would be advisable."
   ]
  },
  {
   "cell_type": "markdown",
   "metadata": {},
   "source": [
    "### Let's re-do the incorrect spellings check:"
   ]
  },
  {
   "cell_type": "code",
   "execution_count": 71,
   "metadata": {},
   "outputs": [],
   "source": [
    "df_nd = pp.find_incorrect_spellings(df=df_nd, col=\"clean_text\", distance=1)"
   ]
  },
  {
   "cell_type": "code",
   "execution_count": 72,
   "metadata": {},
   "outputs": [
    {
     "data": {
      "text/plain": [
       "[('...', 629),\n",
       " ('.. .', 270),\n",
       " ('w', 247),\n",
       " ('dm', 243),\n",
       " ('hrs', 218),\n",
       " ('aa', 179),\n",
       " ('..', 173),\n",
       " ('jfk', 173),\n",
       " (\"you're\", 159),\n",
       " (':)', 152),\n",
       " ('fleek', 148),\n",
       " ('flt', 141),\n",
       " ('rebooked', 134),\n",
       " ('dfw', 131),\n",
       " ('sfo', 102),\n",
       " ('thx', 102),\n",
       " ('phl', 100),\n",
       " ('s', 97),\n",
       " ('rt', 94),\n",
       " ('jetblue', 94),\n",
       " ('dca', 92),\n",
       " ('pm', 90),\n",
       " (':(', 86),\n",
       " ('clt', 77),\n",
       " ('bos', 76),\n",
       " ('ewr', 71),\n",
       " ('nyc', 67),\n",
       " ('bc', 67),\n",
       " ('hr', 66),\n",
       " ('b', 64),\n",
       " ('c', 61),\n",
       " ('pls', 60),\n",
       " ('thru', 55),\n",
       " ('phx', 55),\n",
       " ('. .', 54),\n",
       " ('fll', 51),\n",
       " ('cust', 51),\n",
       " ('lga', 49),\n",
       " ('dc', 49),\n",
       " ('rebooking', 49),\n",
       " ('... .', 48),\n",
       " ('1/2', 47),\n",
       " ('sw', 46),\n",
       " ('usair', 45),\n",
       " ('iah', 44),\n",
       " ('swa', 43),\n",
       " ('tv', 41),\n",
       " ('mco', 39),\n",
       " (';)', 39),\n",
       " ('bwi', 39)]"
      ]
     },
     "execution_count": 72,
     "metadata": {},
     "output_type": "execute_result"
    }
   ],
   "source": [
    "counter = Counter()\n",
    "df_nd[\"check_spellings\"].apply(lambda x: counter.update(x.keys()))\n",
    "counter.most_common()[:50]"
   ]
  },
  {
   "cell_type": "markdown",
   "metadata": {},
   "source": [
    "### How long are the tweets? Perhaps very short tweets are not of value?"
   ]
  },
  {
   "cell_type": "code",
   "execution_count": 73,
   "metadata": {},
   "outputs": [],
   "source": [
    "df_nd[\"tweet_length\"] = df_nd[\"clean_text\"].map(lambda x: len(x))"
   ]
  },
  {
   "cell_type": "code",
   "execution_count": 74,
   "metadata": {},
   "outputs": [
    {
     "data": {
      "image/png": "[encoded data removed]"
     },
     "metadata": {},
     "output_type": "display_data"
    }
   ],
   "source": [
    "n_char_chart = px.histogram(\n",
    "    df_nd,\n",
    "    x=\"tweet_length\",\n",
    "    nbins=200,\n",
    "    histnorm=\"percent\",\n",
    "    labels={\"tweet_length\": \"number of characters\"},\n",
    "    title=\"Number of characters in tweets\",\n",
    "    width=800,\n",
    "    height=400,\n",
    ")\n",
    "n_char_chart.show()"
   ]
  },
  {
   "cell_type": "markdown",
   "metadata": {},
   "source": [
    "Very short tweets are nearly all brief replies, e.g. 'thank you' to operators, but mostly contain too little content to be informative individually. Hence I will remove those of three words or less."
   ]
  },
  {
   "cell_type": "code",
   "execution_count": 75,
   "metadata": {},
   "outputs": [
    {
     "name": "stdout",
     "output_type": "stream",
     "text": [
      "awesome! Thx\n",
      "Thanks a ton!\n",
      "snapchat, iMessage, instagram......\n",
      "thank you!!\n",
      "I will. Thanks.\n",
      "thank you\n",
      "done thnx\n",
      "flight number\n",
      "never again.\n",
      "Apparently not.\n",
      "Worst airline ever?\n",
      "yes, with Delta!\n",
      "Great, thanks. Followed.\n",
      "please please please\n",
      "pathetic service\n"
     ]
    }
   ],
   "source": [
    "# Look at tweets with 3 words or less\n",
    "short_tweets = df_nd[\"clean_text\"][df_nd[\"clean_text\"].str.count(\" \").lt(3)]\n",
    "[print(tweet) for tweet in short_tweets.sample(15, random_state=11)];"
   ]
  },
  {
   "cell_type": "code",
   "execution_count": 76,
   "metadata": {},
   "outputs": [
    {
     "name": "stdout",
     "output_type": "stream",
     "text": [
      "(13854, 19)\n"
     ]
    }
   ],
   "source": [
    "# Drop tweets with 3 words or less\n",
    "df_nd = df_nd[df_nd[\"clean_text\"].str.count(\" \").gt(2)].reset_index(drop=True)\n",
    "print(df_nd.shape)"
   ]
  },
  {
   "cell_type": "code",
   "execution_count": 77,
   "metadata": {},
   "outputs": [],
   "source": [
    "save_str = \"_emoji_urls_html_symbols@#_quotes_currency_whitespace_3wordtweetdrop_flightspellcorrect\""
   ]
  },
  {
   "cell_type": "code",
   "execution_count": 78,
   "metadata": {},
   "outputs": [],
   "source": [
    "# df_nd.to_csv(\n",
    "#    f\"../data/processed/twitter_airline_sentiment_cleaned{save_str}.csv\", index=False\n",
    "# )"
   ]
  }
 ],
 "metadata": {
  "kernelspec": {
   "display_name": ".venv",
   "language": "python",
   "name": "python3"
  },
  "language_info": {
   "codemirror_mode": {
    "name": "ipython",
    "version": 3
   },
   "file_extension": ".py",
   "mimetype": "text/x-python",
   "name": "python",
   "nbconvert_exporter": "python",
   "pygments_lexer": "ipython3",
   "version": "3.11.5"
  }
 },
 "nbformat": 4,
 "nbformat_minor": 2
}
